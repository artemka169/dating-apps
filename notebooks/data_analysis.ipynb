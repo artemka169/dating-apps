{
 "cells": [
  {
   "cell_type": "code",
   "execution_count": 32,
   "id": "65b92d2d",
   "metadata": {},
   "outputs": [],
   "source": [
    "import pandas as pd\n",
    "import math\n",
    "import matplotlib.pyplot as plt\n",
    "import numpy as np\n"
   ]
  },
  {
   "cell_type": "code",
   "execution_count": 33,
   "id": "56c24347",
   "metadata": {},
   "outputs": [],
   "source": [
    "NUM_SIMS = 1000\n",
    "BIN_SIZE_MATCHES = 1\n",
    "BIN_SIZE_LIKES = 1"
   ]
  },
  {
   "cell_type": "code",
   "execution_count": 34,
   "id": "5264da4b",
   "metadata": {},
   "outputs": [],
   "source": [
    "df = pd.read_csv('../results/results_sim4.csv')"
   ]
  },
  {
   "cell_type": "code",
   "execution_count": 35,
   "id": "aa154ad2",
   "metadata": {},
   "outputs": [],
   "source": [
    "MALE_COUNT = sum(df['gender'] == 'MALE')/NUM_SIMS\n",
    "FEMALE_COUNT = sum(df['gender'] == 'FEMALE')/NUM_SIMS"
   ]
  },
  {
   "cell_type": "code",
   "execution_count": 36,
   "id": "3c95ecf9",
   "metadata": {},
   "outputs": [],
   "source": [
    "df['attractiveness_tier'] = [math.floor(x*100/10) for x in df['attractiveness']]"
   ]
  },
  {
   "cell_type": "code",
   "execution_count": 37,
   "id": "55f168fc",
   "metadata": {
    "scrolled": true
   },
   "outputs": [
    {
     "data": {
      "text/html": [
       "<div>\n",
       "<style scoped>\n",
       "    .dataframe tbody tr th:only-of-type {\n",
       "        vertical-align: middle;\n",
       "    }\n",
       "\n",
       "    .dataframe tbody tr th {\n",
       "        vertical-align: top;\n",
       "    }\n",
       "\n",
       "    .dataframe thead th {\n",
       "        text-align: right;\n",
       "    }\n",
       "</style>\n",
       "<table border=\"1\" class=\"dataframe\">\n",
       "  <thead>\n",
       "    <tr style=\"text-align: right;\">\n",
       "      <th></th>\n",
       "      <th>likes</th>\n",
       "      <th>matches</th>\n",
       "    </tr>\n",
       "    <tr>\n",
       "      <th>gender</th>\n",
       "      <th></th>\n",
       "      <th></th>\n",
       "    </tr>\n",
       "  </thead>\n",
       "  <tbody>\n",
       "    <tr>\n",
       "      <th>FEMALE</th>\n",
       "      <td>92.286574</td>\n",
       "      <td>6.472411</td>\n",
       "    </tr>\n",
       "    <tr>\n",
       "      <th>MALE</th>\n",
       "      <td>7.016493</td>\n",
       "      <td>3.231354</td>\n",
       "    </tr>\n",
       "  </tbody>\n",
       "</table>\n",
       "</div>"
      ],
      "text/plain": [
       "            likes   matches\n",
       "gender                     \n",
       "FEMALE  92.286574  6.472411\n",
       "MALE     7.016493  3.231354"
      ]
     },
     "execution_count": 37,
     "metadata": {},
     "output_type": "execute_result"
    }
   ],
   "source": [
    "df.groupby(['gender']).mean()[['likes','matches']]"
   ]
  },
  {
   "cell_type": "code",
   "execution_count": 38,
   "id": "5fd21448",
   "metadata": {},
   "outputs": [
    {
     "data": {
      "text/html": [
       "<div>\n",
       "<style scoped>\n",
       "    .dataframe tbody tr th:only-of-type {\n",
       "        vertical-align: middle;\n",
       "    }\n",
       "\n",
       "    .dataframe tbody tr th {\n",
       "        vertical-align: top;\n",
       "    }\n",
       "\n",
       "    .dataframe thead th {\n",
       "        text-align: right;\n",
       "    }\n",
       "</style>\n",
       "<table border=\"1\" class=\"dataframe\">\n",
       "  <thead>\n",
       "    <tr style=\"text-align: right;\">\n",
       "      <th></th>\n",
       "      <th>likes</th>\n",
       "      <th>matches</th>\n",
       "    </tr>\n",
       "    <tr>\n",
       "      <th>gender</th>\n",
       "      <th></th>\n",
       "      <th></th>\n",
       "    </tr>\n",
       "  </thead>\n",
       "  <tbody>\n",
       "    <tr>\n",
       "      <th>FEMALE</th>\n",
       "      <td>89.0</td>\n",
       "      <td>6.0</td>\n",
       "    </tr>\n",
       "    <tr>\n",
       "      <th>MALE</th>\n",
       "      <td>1.0</td>\n",
       "      <td>0.0</td>\n",
       "    </tr>\n",
       "  </tbody>\n",
       "</table>\n",
       "</div>"
      ],
      "text/plain": [
       "        likes  matches\n",
       "gender                \n",
       "FEMALE   89.0      6.0\n",
       "MALE      1.0      0.0"
      ]
     },
     "execution_count": 38,
     "metadata": {},
     "output_type": "execute_result"
    }
   ],
   "source": [
    "df.groupby(['gender']).median()[['likes','matches']]"
   ]
  },
  {
   "cell_type": "code",
   "execution_count": 39,
   "id": "26a13294",
   "metadata": {},
   "outputs": [
    {
     "data": {
      "text/html": [
       "<div>\n",
       "<style scoped>\n",
       "    .dataframe tbody tr th:only-of-type {\n",
       "        vertical-align: middle;\n",
       "    }\n",
       "\n",
       "    .dataframe tbody tr th {\n",
       "        vertical-align: top;\n",
       "    }\n",
       "\n",
       "    .dataframe thead th {\n",
       "        text-align: right;\n",
       "    }\n",
       "</style>\n",
       "<table border=\"1\" class=\"dataframe\">\n",
       "  <thead>\n",
       "    <tr style=\"text-align: right;\">\n",
       "      <th></th>\n",
       "      <th></th>\n",
       "      <th>likes</th>\n",
       "      <th>matches</th>\n",
       "    </tr>\n",
       "    <tr>\n",
       "      <th>gender</th>\n",
       "      <th>attractiveness_tier</th>\n",
       "      <th></th>\n",
       "      <th></th>\n",
       "    </tr>\n",
       "  </thead>\n",
       "  <tbody>\n",
       "    <tr>\n",
       "      <th rowspan=\"10\" valign=\"top\">FEMALE</th>\n",
       "      <th>0</th>\n",
       "      <td>6.146206</td>\n",
       "      <td>0.427889</td>\n",
       "    </tr>\n",
       "    <tr>\n",
       "      <th>1</th>\n",
       "      <td>21.677052</td>\n",
       "      <td>1.521642</td>\n",
       "    </tr>\n",
       "    <tr>\n",
       "      <th>2</th>\n",
       "      <td>39.397698</td>\n",
       "      <td>2.759321</td>\n",
       "    </tr>\n",
       "    <tr>\n",
       "      <th>3</th>\n",
       "      <td>58.365127</td>\n",
       "      <td>4.081892</td>\n",
       "    </tr>\n",
       "    <tr>\n",
       "      <th>4</th>\n",
       "      <td>78.481156</td>\n",
       "      <td>5.506041</td>\n",
       "    </tr>\n",
       "    <tr>\n",
       "      <th>5</th>\n",
       "      <td>99.203845</td>\n",
       "      <td>6.959739</td>\n",
       "    </tr>\n",
       "    <tr>\n",
       "      <th>6</th>\n",
       "      <td>120.728582</td>\n",
       "      <td>8.478842</td>\n",
       "    </tr>\n",
       "    <tr>\n",
       "      <th>7</th>\n",
       "      <td>142.914164</td>\n",
       "      <td>10.025054</td>\n",
       "    </tr>\n",
       "    <tr>\n",
       "      <th>8</th>\n",
       "      <td>165.478433</td>\n",
       "      <td>11.622156</td>\n",
       "    </tr>\n",
       "    <tr>\n",
       "      <th>9</th>\n",
       "      <td>188.640633</td>\n",
       "      <td>13.212735</td>\n",
       "    </tr>\n",
       "    <tr>\n",
       "      <th rowspan=\"10\" valign=\"top\">MALE</th>\n",
       "      <th>0</th>\n",
       "      <td>0.000000</td>\n",
       "      <td>0.000000</td>\n",
       "    </tr>\n",
       "    <tr>\n",
       "      <th>1</th>\n",
       "      <td>0.000643</td>\n",
       "      <td>0.000314</td>\n",
       "    </tr>\n",
       "    <tr>\n",
       "      <th>2</th>\n",
       "      <td>0.011760</td>\n",
       "      <td>0.005352</td>\n",
       "    </tr>\n",
       "    <tr>\n",
       "      <th>3</th>\n",
       "      <td>0.087914</td>\n",
       "      <td>0.039416</td>\n",
       "    </tr>\n",
       "    <tr>\n",
       "      <th>4</th>\n",
       "      <td>0.393650</td>\n",
       "      <td>0.181566</td>\n",
       "    </tr>\n",
       "    <tr>\n",
       "      <th>5</th>\n",
       "      <td>1.330873</td>\n",
       "      <td>0.613184</td>\n",
       "    </tr>\n",
       "    <tr>\n",
       "      <th>6</th>\n",
       "      <td>3.650448</td>\n",
       "      <td>1.683156</td>\n",
       "    </tr>\n",
       "    <tr>\n",
       "      <th>7</th>\n",
       "      <td>8.709165</td>\n",
       "      <td>4.011456</td>\n",
       "    </tr>\n",
       "    <tr>\n",
       "      <th>8</th>\n",
       "      <td>18.744110</td>\n",
       "      <td>8.624975</td>\n",
       "    </tr>\n",
       "    <tr>\n",
       "      <th>9</th>\n",
       "      <td>36.939274</td>\n",
       "      <td>17.017183</td>\n",
       "    </tr>\n",
       "  </tbody>\n",
       "</table>\n",
       "</div>"
      ],
      "text/plain": [
       "                                 likes    matches\n",
       "gender attractiveness_tier                       \n",
       "FEMALE 0                      6.146206   0.427889\n",
       "       1                     21.677052   1.521642\n",
       "       2                     39.397698   2.759321\n",
       "       3                     58.365127   4.081892\n",
       "       4                     78.481156   5.506041\n",
       "       5                     99.203845   6.959739\n",
       "       6                    120.728582   8.478842\n",
       "       7                    142.914164  10.025054\n",
       "       8                    165.478433  11.622156\n",
       "       9                    188.640633  13.212735\n",
       "MALE   0                      0.000000   0.000000\n",
       "       1                      0.000643   0.000314\n",
       "       2                      0.011760   0.005352\n",
       "       3                      0.087914   0.039416\n",
       "       4                      0.393650   0.181566\n",
       "       5                      1.330873   0.613184\n",
       "       6                      3.650448   1.683156\n",
       "       7                      8.709165   4.011456\n",
       "       8                     18.744110   8.624975\n",
       "       9                     36.939274  17.017183"
      ]
     },
     "execution_count": 39,
     "metadata": {},
     "output_type": "execute_result"
    }
   ],
   "source": [
    "df.groupby(['gender','attractiveness_tier']).mean()[['likes','matches']]"
   ]
  },
  {
   "cell_type": "code",
   "execution_count": 40,
   "id": "725f9dce",
   "metadata": {},
   "outputs": [
    {
     "data": {
      "text/html": [
       "<div>\n",
       "<style scoped>\n",
       "    .dataframe tbody tr th:only-of-type {\n",
       "        vertical-align: middle;\n",
       "    }\n",
       "\n",
       "    .dataframe tbody tr th {\n",
       "        vertical-align: top;\n",
       "    }\n",
       "\n",
       "    .dataframe thead th {\n",
       "        text-align: right;\n",
       "    }\n",
       "</style>\n",
       "<table border=\"1\" class=\"dataframe\">\n",
       "  <thead>\n",
       "    <tr style=\"text-align: right;\">\n",
       "      <th></th>\n",
       "      <th>likes</th>\n",
       "      <th>matches</th>\n",
       "    </tr>\n",
       "    <tr>\n",
       "      <th>gender</th>\n",
       "      <th></th>\n",
       "      <th></th>\n",
       "    </tr>\n",
       "  </thead>\n",
       "  <tbody>\n",
       "    <tr>\n",
       "      <th>FEMALE</th>\n",
       "      <td>89.0</td>\n",
       "      <td>6.0</td>\n",
       "    </tr>\n",
       "    <tr>\n",
       "      <th>MALE</th>\n",
       "      <td>1.0</td>\n",
       "      <td>0.0</td>\n",
       "    </tr>\n",
       "  </tbody>\n",
       "</table>\n",
       "</div>"
      ],
      "text/plain": [
       "        likes  matches\n",
       "gender                \n",
       "FEMALE   89.0      6.0\n",
       "MALE      1.0      0.0"
      ]
     },
     "execution_count": 40,
     "metadata": {},
     "output_type": "execute_result"
    }
   ],
   "source": [
    "df.groupby(['gender']).median()[['likes','matches']]"
   ]
  },
  {
   "cell_type": "code",
   "execution_count": 41,
   "id": "374dfcb1",
   "metadata": {},
   "outputs": [],
   "source": [
    "grouped_data = df.groupby(['gender','attractiveness_tier']).mean()[['likes','matches']]"
   ]
  },
  {
   "cell_type": "code",
   "execution_count": 42,
   "id": "8791c423",
   "metadata": {
    "scrolled": true
   },
   "outputs": [
    {
     "data": {
      "image/png": "[encoded data removed]",
      "text/plain": [
       "<Figure size 640x480 with 1 Axes>"
      ]
     },
     "metadata": {},
     "output_type": "display_data"
    }
   ],
   "source": [
    "\n",
    "male_data = grouped_data.xs('MALE', level='gender')\n",
    "female_data = grouped_data.xs('FEMALE', level='gender')\n",
    "\n",
    "x = male_data.index\n",
    "\n",
    "bar_width = 0.35\n",
    "r1 = range(len(x))\n",
    "r2 = [x + bar_width for x in r1]\n",
    "\n",
    "plt.bar(r1, male_data['likes'], width=bar_width, label='MALE')\n",
    "plt.bar(r2, female_data['likes'], width=bar_width, label='FEMALE')\n",
    "\n",
    "plt.xlabel('Perceived Attractiveness')\n",
    "plt.ylabel('Avg. Likes')\n",
    "plt.title('Likes by Attractiveness Tier')\n",
    "\n",
    "plt.xticks([r + bar_width/2 for r in r1], x)\n",
    "plt.legend()\n",
    "plt.show()"
   ]
  },
  {
   "cell_type": "code",
   "execution_count": 43,
   "id": "e3f48dc2",
   "metadata": {},
   "outputs": [
    {
     "data": {
      "image/png": "[encoded data removed]",
      "text/plain": [
       "<Figure size 640x480 with 1 Axes>"
      ]
     },
     "metadata": {},
     "output_type": "display_data"
    }
   ],
   "source": [
    "\n",
    "male_data = grouped_data.xs('MALE', level='gender')\n",
    "female_data = grouped_data.xs('FEMALE', level='gender')\n",
    "\n",
    "x = male_data.index\n",
    "\n",
    "bar_width = 0.35\n",
    "r1 = range(len(x))\n",
    "r2 = [x + bar_width for x in r1]\n",
    "\n",
    "plt.bar(r1, male_data['matches'], width=bar_width, label='MALE')\n",
    "plt.bar(r2, female_data['matches'], width=bar_width, label='FEMALE')\n",
    "\n",
    "plt.xlabel('Perceived Attractiveness')\n",
    "plt.ylabel('Avg. Matches')\n",
    "plt.title('Matches by Attractiveness Tier')\n",
    "\n",
    "plt.xticks([r + bar_width/2 for r in r1], x)\n",
    "plt.legend()\n",
    "plt.show()"
   ]
  },
  {
   "cell_type": "code",
   "execution_count": 44,
   "id": "a2210e94",
   "metadata": {
    "scrolled": false
   },
   "outputs": [
    {
     "data": {
      "image/png": "[encoded data removed]",
      "text/plain": [
       "<Figure size 1200x600 with 1 Axes>"
      ]
     },
     "metadata": {},
     "output_type": "display_data"
    }
   ],
   "source": [
    "female_likes_total = [x for x in df[df['gender'] == 'FEMALE']['likes']]\n",
    "male_likes_total = [x for x in df[df['gender'] == 'MALE']['likes']]\n",
    "\n",
    "def convert_bins_to_size(data_range, X):\n",
    "    min_val = int(min(data_range))\n",
    "    max_val = int(max(data_range))\n",
    "    new_bins = list(range(min_val, max_val + X + 1, X))\n",
    "    return new_bins\n",
    "\n",
    "plt.figure(figsize=(12, 6))\n",
    "data_range = range(int(min(male_likes_total)), int(max(female_likes_total)) + 2)\n",
    "new_bins_likes = convert_bins_to_size(male_likes_total+female_likes_total, BIN_SIZE_LIKES)\n",
    "plt.hist(female_likes_total, bins=new_bins_likes, alpha=0.5, label='Female Users', color='red')\n",
    "plt.hist(male_likes_total, bins=new_bins_likes, alpha=0.5, label='Male Users', color='blue')\n",
    "plt.title(\"Average Number of Likes Received\")\n",
    "plt.xlabel(\"Number of Likes Received\")\n",
    "plt.ylabel(\"Number of Users (in 1000 simulations)\")\n",
    "plt.legend(loc='upper right')\n",
    "plt.show()\n"
   ]
  },
  {
   "cell_type": "code",
   "execution_count": 45,
   "id": "1350549c",
   "metadata": {},
   "outputs": [
    {
     "data": {
      "image/png": "[encoded data removed]",
      "text/plain": [
       "<Figure size 1200x600 with 1 Axes>"
      ]
     },
     "metadata": {},
     "output_type": "display_data"
    },
    {
     "name": "stdout",
     "output_type": "stream",
     "text": [
      "[0, 1, 2, 3, 4, 5, 6, 7, 8, 9, 10, 11, 12, 13, 14, 15, 16, 17, 18, 19, 20, 21, 22, 23, 24, 25, 26, 27, 28, 29, 30, 31, 32, 33, 34, 35]\n"
     ]
    }
   ],
   "source": [
    "female_matches_total = [x for x in df[df['gender'] == 'FEMALE']['matches']]\n",
    "male_matches_total = [x for x in df[df['gender'] == 'MALE']['matches']]\n",
    "\n",
    "\n",
    "plt.figure(figsize=(12, 6))\n",
    "data_range = range(int(min(male_matches_total)), int(max(female_matches_total)) + 10)\n",
    "new_bins_matches = convert_bins_to_size(male_matches_total+female_matches_total, BIN_SIZE_MATCHES)\n",
    "plt.hist(female_matches_total, bins=new_bins_matches, alpha=0.5, label='Female Users', color='red')\n",
    "plt.hist(male_matches_total, bins=new_bins_matches, alpha=0.5, label='Male Users', color='blue')\n",
    "plt.title(\"Average Number of Matches\")\n",
    "plt.xlabel(\"Values\")\n",
    "plt.ylabel(\"Frequency\")\n",
    "plt.legend(loc='upper right')\n",
    "plt.show()\n",
    "print(new_bins_matches)"
   ]
  },
  {
   "cell_type": "code",
   "execution_count": 17,
   "id": "b148f4c2",
   "metadata": {},
   "outputs": [
    {
     "data": {
      "text/html": [
       "<div>\n",
       "<style scoped>\n",
       "    .dataframe tbody tr th:only-of-type {\n",
       "        vertical-align: middle;\n",
       "    }\n",
       "\n",
       "    .dataframe tbody tr th {\n",
       "        vertical-align: top;\n",
       "    }\n",
       "\n",
       "    .dataframe thead th {\n",
       "        text-align: right;\n",
       "    }\n",
       "</style>\n",
       "<table border=\"1\" class=\"dataframe\">\n",
       "  <thead>\n",
       "    <tr style=\"text-align: right;\">\n",
       "      <th></th>\n",
       "      <th>gender</th>\n",
       "      <th>bin_matches</th>\n",
       "      <th>bin_matches_label</th>\n",
       "      <th>count</th>\n",
       "      <th>percentage</th>\n",
       "    </tr>\n",
       "  </thead>\n",
       "  <tbody>\n",
       "    <tr>\n",
       "      <th>0</th>\n",
       "      <td>FEMALE</td>\n",
       "      <td>0</td>\n",
       "      <td>0</td>\n",
       "      <td>32.878</td>\n",
       "      <td>9.873273</td>\n",
       "    </tr>\n",
       "    <tr>\n",
       "      <th>1</th>\n",
       "      <td>FEMALE</td>\n",
       "      <td>1</td>\n",
       "      <td>1</td>\n",
       "      <td>27.904</td>\n",
       "      <td>8.379580</td>\n",
       "    </tr>\n",
       "    <tr>\n",
       "      <th>2</th>\n",
       "      <td>FEMALE</td>\n",
       "      <td>2</td>\n",
       "      <td>2</td>\n",
       "      <td>25.916</td>\n",
       "      <td>7.782583</td>\n",
       "    </tr>\n",
       "    <tr>\n",
       "      <th>3</th>\n",
       "      <td>FEMALE</td>\n",
       "      <td>3</td>\n",
       "      <td>3</td>\n",
       "      <td>24.680</td>\n",
       "      <td>7.411411</td>\n",
       "    </tr>\n",
       "    <tr>\n",
       "      <th>4</th>\n",
       "      <td>FEMALE</td>\n",
       "      <td>4</td>\n",
       "      <td>4</td>\n",
       "      <td>23.657</td>\n",
       "      <td>7.104204</td>\n",
       "    </tr>\n",
       "    <tr>\n",
       "      <th>...</th>\n",
       "      <td>...</td>\n",
       "      <td>...</td>\n",
       "      <td>...</td>\n",
       "      <td>...</td>\n",
       "      <td>...</td>\n",
       "    </tr>\n",
       "    <tr>\n",
       "      <th>59</th>\n",
       "      <td>MALE</td>\n",
       "      <td>30</td>\n",
       "      <td>30</td>\n",
       "      <td>0.113</td>\n",
       "      <td>0.016942</td>\n",
       "    </tr>\n",
       "    <tr>\n",
       "      <th>60</th>\n",
       "      <td>MALE</td>\n",
       "      <td>31</td>\n",
       "      <td>31</td>\n",
       "      <td>0.058</td>\n",
       "      <td>0.008696</td>\n",
       "    </tr>\n",
       "    <tr>\n",
       "      <th>61</th>\n",
       "      <td>MALE</td>\n",
       "      <td>32</td>\n",
       "      <td>32</td>\n",
       "      <td>0.026</td>\n",
       "      <td>0.003898</td>\n",
       "    </tr>\n",
       "    <tr>\n",
       "      <th>62</th>\n",
       "      <td>MALE</td>\n",
       "      <td>33</td>\n",
       "      <td>33</td>\n",
       "      <td>0.013</td>\n",
       "      <td>0.001949</td>\n",
       "    </tr>\n",
       "    <tr>\n",
       "      <th>63</th>\n",
       "      <td>MALE</td>\n",
       "      <td>34</td>\n",
       "      <td>34</td>\n",
       "      <td>0.002</td>\n",
       "      <td>0.000300</td>\n",
       "    </tr>\n",
       "  </tbody>\n",
       "</table>\n",
       "<p>64 rows × 5 columns</p>\n",
       "</div>"
      ],
      "text/plain": [
       "    gender  bin_matches bin_matches_label   count  percentage\n",
       "0   FEMALE            0                 0  32.878    9.873273\n",
       "1   FEMALE            1                 1  27.904    8.379580\n",
       "2   FEMALE            2                 2  25.916    7.782583\n",
       "3   FEMALE            3                 3  24.680    7.411411\n",
       "4   FEMALE            4                 4  23.657    7.104204\n",
       "..     ...          ...               ...     ...         ...\n",
       "59    MALE           30                30   0.113    0.016942\n",
       "60    MALE           31                31   0.058    0.008696\n",
       "61    MALE           32                32   0.026    0.003898\n",
       "62    MALE           33                33   0.013    0.001949\n",
       "63    MALE           34                34   0.002    0.000300\n",
       "\n",
       "[64 rows x 5 columns]"
      ]
     },
     "execution_count": 17,
     "metadata": {},
     "output_type": "execute_result"
    }
   ],
   "source": [
    "df['bin_matches'] = pd.cut(df['matches'], new_bins_matches, labels=False, right=False)\n",
    "df['bin_matches_label'] = [str(new_bins_matches[x]) for x in df['bin_matches']]\n",
    "grouped_data_matches = df.groupby(['gender','bin_matches','bin_matches_label']).count()[['attractiveness']]/NUM_SIMS\n",
    "df_chart_matches = grouped_data_matches.reset_index()\n",
    "df_chart_matches = df_chart_matches.rename(columns={'attractiveness': 'count'})\n",
    "df_chart_matches['percentage'] = df_chart_matches.apply(lambda x: 100*x['count']/(MALE_COUNT*int(x['gender']=='MALE') + FEMALE_COUNT*int(x['gender']=='FEMALE')), axis = 1)\n",
    "df_chart_matches"
   ]
  },
  {
   "cell_type": "code",
   "execution_count": null,
   "id": "a4b73f7c",
   "metadata": {},
   "outputs": [],
   "source": []
  }
 ],
 "metadata": {
  "kernelspec": {
   "display_name": "Python 3 (ipykernel)",
   "language": "python",
   "name": "python3"
  },
  "language_info": {
   "codemirror_mode": {
    "name": "ipython",
    "version": 3
   },
   "file_extension": ".py",
   "mimetype": "text/x-python",
   "name": "python",
   "nbconvert_exporter": "python",
   "pygments_lexer": "ipython3",
   "version": "3.10.9"
  }
 },
 "nbformat": 4,
 "nbformat_minor": 5
}
